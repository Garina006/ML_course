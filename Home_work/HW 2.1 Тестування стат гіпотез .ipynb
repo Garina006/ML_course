{
  "nbformat": 4,
  "nbformat_minor": 0,
  "metadata": {
    "colab": {
      "provenance": []
    },
    "kernelspec": {
      "name": "python3",
      "display_name": "Python 3"
    },
    "language_info": {
      "name": "python"
    }
  },
  "cells": [
    {
      "cell_type": "markdown",
      "source": [
        "В цьому ДЗ потренуємось виконувати Z-тести для тестування гіпотез в різних задачах. Для коректної імплементації та інтерпретації тестів рекоемндую переглянути спершу документацію:\n",
        "\n",
        "https://www.statsmodels.org/dev/generated/statsmodels.stats.weightstats.ztest.html\n",
        "\n",
        "### Завдання 1: Z-тест для однієї вибірки\n",
        "\n",
        "**Мета**: Перевірити, чи середнє значення вибірки відрізняється від гіпотетичного середнього.\n",
        "\n",
        "**Припущення**: Середній ріст студентів університету вважається 170 см. Ми хочемо перевірити, чи середній ріст випадкової вибірки студентів істотно більший. Вибірка задана в змінній `heights`.\n",
        "\n",
        "Для виконання завдання імпортуйте метод для проведення `ztest`, виконайте Z-тест з Python, виведіть p-value і зробіть заключення, чи справдилось припущення про середній зріст студентів на рівні значущості 0.05?\n",
        "\n",
        "Використовуємо тут Z-тест, оскільки вибірка достатньо велика (більше 30 екземплярів) і можемо вважати, що її стандартне відхилення близьке до ст. відхилення генеральної сукупності, а значить - відоме."
      ],
      "metadata": {
        "id": "ID3uSQHkQJ2J"
      }
    },
    {
      "cell_type": "code",
      "source": [
        "heights = [174, 171, 175, 179, 170, 170, 179, 175, 169, 174, 169, 169, 173, 162, 163, 169, 166,\n",
        "           173, 167, 164, 179, 170, 172, 164, 169, 175, 169, 174, 169, 169, 173, 162, 177]"
      ],
      "metadata": {
        "id": "TUYNSCDzRE7N"
      },
      "execution_count": 1,
      "outputs": []
    },
    {
      "cell_type": "code",
      "source": [
        "from statsmodels.stats.weightstats import ztest"
      ],
      "metadata": {
        "id": "uTJEZPARYMd4"
      },
      "execution_count": 2,
      "outputs": []
    },
    {
      "cell_type": "code",
      "source": [
        "z_statistics, p_value = ztest(heights, value=170, alternative='larger')"
      ],
      "metadata": {
        "id": "9bAeGIAeNFKZ"
      },
      "execution_count": 4,
      "outputs": []
    },
    {
      "cell_type": "code",
      "source": [
        "p_value"
      ],
      "metadata": {
        "colab": {
          "base_uri": "https://localhost:8080/"
        },
        "id": "y8Dxg8-SNjJ1",
        "outputId": "7630dd24-85be-4c93-9de9-e9eb8c215b6c"
      },
      "execution_count": 5,
      "outputs": [
        {
          "output_type": "execute_result",
          "data": {
            "text/plain": [
              "0.19815674571091746"
            ]
          },
          "metadata": {},
          "execution_count": 5
        }
      ]
    },
    {
      "cell_type": "markdown",
      "source": [
        "**Висновок:**  \n",
        "Оскільки отримане значення p_value більше за рівень визначеної статистичної значущості alpha, ми не можемо відхилити гіпотезу H0. Тобто у нас немає підстав стверджувати, що середній зріст студентів у випадковій вибірці більший за середній зріст студентів по університету."
      ],
      "metadata": {
        "id": "tr503SB0NxC3"
      }
    },
    {
      "cell_type": "markdown",
      "source": [
        "### Завдання 2: Z-тест для двох незалежних вибірок\n",
        "\n",
        "**Завдання 2.1.**\n",
        "\n",
        "**Мета**: Перевірити, чи існує статистична різниця між середніми оцінками двох груп студентів.\n",
        "\n",
        "**Припущення**: Група A отримала новий навчальний курс, а група B продовжувала зі стандартним курсом. Ми перевіряємо, чи є новий курс ефективнішим.\n",
        "\n",
        "Виконайте Z-тест з Python, виведіть p-value і зробіть заключення, чи справдилось припущення щодо студентів на рівні значущості 0.05?"
      ],
      "metadata": {
        "id": "ga4iKM9kQa9Q"
      }
    },
    {
      "cell_type": "code",
      "source": [
        "group_a_scores = [78.55, 72.25, 79.88, 75.  , 76.54, 74.99, 87.26, 77.93, 72.71,\n",
        "       82.11, 71.9 , 79.04, 68.2 , 71.36, 78.98, 81.69, 78.86, 77.42,\n",
        "       76.49, 70.61, 74.4 , 75.7 , 83.29, 79.72, 69.18, 79.62, 76.07,\n",
        "       74.62, 81.06, 83.15, 82.66, 73.8 , 76.45, 79.66, 82.88, 75.6 ,\n",
        "       77.07, 72.47, 72.02, 82.06]\n",
        "\n",
        "group_b_scores = [81.78, 74.64, 80.02, 76.81, 71.77, 76.81, 82.69, 74.82, 82.82,\n",
        "       61.9 , 79.11, 75.44, 73.5 , 75.46, 65.06, 73.9 , 76.79, 82.39,\n",
        "       72.41, 70.96, 72.49, 79.58, 76.64, 72.35, 77.57, 75.49, 79.84,\n",
        "       71.49, 73.36, 73.04, 67.68, 76.48, 76.31, 75.03, 73.83, 67.92,\n",
        "       72.9 , 73.29, 70.99, 74.19]"
      ],
      "metadata": {
        "id": "SngJjNBJTgBp"
      },
      "execution_count": 6,
      "outputs": []
    },
    {
      "cell_type": "markdown",
      "source": [
        "Н0: новий курс так само ефективний як і попередній курс (тобто середній бал студентів групи А, які проходили новий курс не відрізняється від середнього балу студентів групи В, які проходили попередній курс)  \n",
        "Н1: новий курс ефективніший за попередній курс(тобто середній бал студентів групи А, які проходили новий курс більший за середній бал студентів групи В, які проходили попередній курс)"
      ],
      "metadata": {
        "id": "e1ghR2d4OaQO"
      }
    },
    {
      "cell_type": "code",
      "source": [
        "z_statistics, p_value = ztest(group_a_scores, group_b_scores, value=0, alternative='larger')"
      ],
      "metadata": {
        "id": "CvftCAEHYPKL"
      },
      "execution_count": 28,
      "outputs": []
    },
    {
      "cell_type": "code",
      "source": [
        "p_value"
      ],
      "metadata": {
        "colab": {
          "base_uri": "https://localhost:8080/"
        },
        "id": "_W3DHPEiPMhk",
        "outputId": "e110608c-f1fb-4e23-d6bd-3d0674c049a9"
      },
      "execution_count": 8,
      "outputs": [
        {
          "output_type": "execute_result",
          "data": {
            "text/plain": [
              "0.009202824276264005"
            ]
          },
          "metadata": {},
          "execution_count": 8
        }
      ]
    },
    {
      "cell_type": "markdown",
      "source": [
        "**Висновок:**  \n",
        "Відповідно до отриманого результату p_value - 0.009 можемо відхилити гіпотезу Н0 і стверджувати, що ми отримали статистично підтверджений результат про те, що середній бал студентів після нового курсу є вищим за середній бал студентів після попереднього курсу."
      ],
      "metadata": {
        "id": "7CHFaO0dPQsd"
      }
    },
    {
      "cell_type": "markdown",
      "source": [
        "**Завдання 2.2.**\n",
        "\n",
        "\n",
        "**Мета**: Побачити, як впливає розмір вибірок на результат тесту.\n",
        "\n",
        "**Завдання**: Уявіть, що з групи А ми маємо тільки перші 5 записів, а з групи В - усі. Таке могло статись, якщо ми вже маємо результати тестів учнів за попередньою програмою, а тести за новою програмою здали наразі лише 5 учнів і ми вирішили не чекати довше.\n",
        "Виберіть перші 5 записів для групи А і проведіть t-test (для цього використовуємо наступний [метод](https://docs.scipy.org/doc/scipy/reference/generated/scipy.stats.ttest_ind.html)). Виведіть значення p-value. Зробіть висновок, який результат ви бачите щодо стат. значущості на рівні 0.05 для цього експерименту?\n",
        "\n",
        "Тут проводимо t-test оскільки одна з вибірок - дуже мала."
      ],
      "metadata": {
        "id": "zOxz2tU0VpJM"
      }
    },
    {
      "cell_type": "code",
      "source": [
        "from scipy.stats import ttest_ind"
      ],
      "metadata": {
        "id": "D9znE6liYQmP"
      },
      "execution_count": 9,
      "outputs": []
    },
    {
      "cell_type": "code",
      "source": [
        "short_group_a_scores = group_a_scores[:5]"
      ],
      "metadata": {
        "id": "FuUTE_P2Qtsg"
      },
      "execution_count": 13,
      "outputs": []
    },
    {
      "cell_type": "code",
      "source": [
        "t_statistics, p_value = ttest_ind(short_group_a_scores, group_b_scores, alternative='greater')"
      ],
      "metadata": {
        "id": "cK5meQTJRbok"
      },
      "execution_count": 15,
      "outputs": []
    },
    {
      "cell_type": "code",
      "source": [
        "p_value"
      ],
      "metadata": {
        "colab": {
          "base_uri": "https://localhost:8080/"
        },
        "id": "kfLSMOEdRuan",
        "outputId": "14a7d84b-7d02-4bef-a7b1-e5663d49ead9"
      },
      "execution_count": 17,
      "outputs": [
        {
          "output_type": "execute_result",
          "data": {
            "text/plain": [
              "0.20927397387678665"
            ]
          },
          "metadata": {},
          "execution_count": 17
        }
      ]
    },
    {
      "cell_type": "markdown",
      "source": [
        "**Висновок:**\n",
        "Отримане значення p_value значно перевищує показник статистичної значущості. Розмір вибірок дуже сильно впливає на результати стат тестів."
      ],
      "metadata": {
        "id": "UeviUdG8VR5B"
      }
    },
    {
      "cell_type": "markdown",
      "source": [
        "\n",
        "### Завдання 3\\*: Z-тест для двох **пов'язаних** вибірок\n",
        "\n",
        "**Мета**: Перевірити, чи вплинув тренінг на продуктивність працівників, коли всі справробітники проходили тренінг.\n",
        "\n",
        "**Припущення**: Наші працівники проходять однаковий тренінг, і ми хочемо з'ясувати, чи покращилися їхні показники після тренінгу на рівні значущості 0.05. Виконайте Z-тест з Python, виведіть p-value і зробіть заключення, чи поліпшились показники працівників на рівні значущості 0.05?\n",
        "\n",
        "Зверніть увагу, ці вибірки повʼязані між собою, значить не буде коректно виконати z-test між ними, натомість, ми можемо порівняти, чи різниця в результатах (продуктивності співробітників) є стат значущою."
      ],
      "metadata": {
        "id": "3TcRHLLz0SLw"
      }
    },
    {
      "cell_type": "code",
      "source": [
        "before_training = [57.82, 37.63, 36.8 , 55.22, 52.97, 52.5 , 53.46, 43.2 , 52.32,\n",
        "       52.93, 42.86, 68.66, 54.74, 38.09, 56.57, 40.25, 57.87, 61.59,\n",
        "       41.79, 59.63, 54.13, 58.22, 68.97, 47.55, 42.46, 41.1 , 41.84,\n",
        "       49.23, 53.41, 52.77]\n",
        "\n",
        "after_training = [62.47, 40.66, 42.7 , 57.69, 61.41, 56.76, 54.75, 44.06, 56.29,\n",
        "       55.48, 47.28, 72.6 , 57.59, 39.39, 56.54, 42.36, 62.58, 65.01,\n",
        "       42.3 , 62.98, 57.9 , 59.45, 72.28, 50.66, 43.18, 44.82, 45.96,\n",
        "       54.4 , 58.52, 53.01]"
      ],
      "metadata": {
        "id": "uxrjagJFW1GC"
      },
      "execution_count": 19,
      "outputs": []
    },
    {
      "cell_type": "code",
      "source": [
        "difference = []\n",
        "for i in range (0, len(before_training)):\n",
        "  res = after_training[i] - before_training[i]\n",
        "  difference.append(res)\n",
        "print(len(difference))\n"
      ],
      "metadata": {
        "colab": {
          "base_uri": "https://localhost:8080/"
        },
        "id": "J2RDprffYyYh",
        "outputId": "d89c4603-cab9-45e5-d957-80b454d9ba10"
      },
      "execution_count": 27,
      "outputs": [
        {
          "output_type": "stream",
          "name": "stdout",
          "text": [
            "30\n"
          ]
        }
      ]
    },
    {
      "cell_type": "code",
      "source": [
        "z_statistics, p_value = ztest(difference, value=0, alternative='larger')"
      ],
      "metadata": {
        "id": "v6r7rpkWaNJw"
      },
      "execution_count": 29,
      "outputs": []
    },
    {
      "cell_type": "code",
      "source": [
        "p_value"
      ],
      "metadata": {
        "colab": {
          "base_uri": "https://localhost:8080/"
        },
        "id": "tlZdkKdgabxF",
        "outputId": "373249b4-4c30-44ca-d6d0-a973dea12b6d"
      },
      "execution_count": 30,
      "outputs": [
        {
          "output_type": "execute_result",
          "data": {
            "text/plain": [
              "3.1545359919175505e-20"
            ]
          },
          "metadata": {},
          "execution_count": 30
        }
      ]
    },
    {
      "cell_type": "markdown",
      "source": [
        "**Висновок:**  \n",
        "Отримане значення p_value є дуже маленьким і, відповідно, значно меншим за значення alpha. Це означає, що ми можемо відхилити Н0: \"різниця між показниками продуктивності = 0\" і стверджувати, що продуктивність працівників покращилась після проходження тренінгу"
      ],
      "metadata": {
        "id": "9B1PE0y-a_yi"
      }
    },
    {
      "cell_type": "code",
      "source": [],
      "metadata": {
        "id": "Ki09W2Spbetf"
      },
      "execution_count": null,
      "outputs": []
    }
  ]
}