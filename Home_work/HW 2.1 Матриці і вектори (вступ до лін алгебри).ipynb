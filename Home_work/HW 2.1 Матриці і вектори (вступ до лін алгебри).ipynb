{
  "nbformat": 4,
  "nbformat_minor": 0,
  "metadata": {
    "colab": {
      "provenance": []
    },
    "kernelspec": {
      "name": "python3",
      "display_name": "Python 3"
    },
    "language_info": {
      "name": "python"
    }
  },
  "cells": [
    {
      "cell_type": "markdown",
      "source": [
        "### Завдання 1: Створення матриць та векторів\n",
        "1. Створіть `numpy` вектор `vector` розмірністю 10 з випадковими дійсними значеннями в діапазоні від 0 до 1. Можна скористатись двома альтернативними варіантами:\n",
        "  1. Генерація випадкових чисел з модулем [`random.uniform`](https://docs.python.org/3/library/random.html).\n",
        "  2. Створення вектора з допомогою метода `numpy` [np.random.rand](https://numpy.org/doc/stable/reference/random/generated/numpy.random.rand.html)\n",
        "\n",
        "2. Створіть матрицю `matrix` типу `numpy.array` розмірності 3x3 з наступними значеннями\n",
        "\n",
        "  $$\n",
        "  matrix = \\begin{bmatrix}\n",
        "  11 & 14 & 17 \\\\\n",
        "  20 & 23 & 26 \\\\\n",
        "  29 & 32 & 35\n",
        "  \\end{bmatrix}\n",
        "  $$\n",
        "\n",
        "  будь-яким відомими Вам способом.\n",
        "\n",
        "Виведіть на екран вектор і матрицю, а також їх розміри.\n"
      ],
      "metadata": {
        "id": "efug1V4CM0lT"
      }
    },
    {
      "cell_type": "code",
      "source": [
        "import numpy as np"
      ],
      "metadata": {
        "id": "jxA_lG2_VIMe"
      },
      "execution_count": 1,
      "outputs": []
    },
    {
      "cell_type": "code",
      "source": [
        "vector = np.random.rand(10)\n",
        "vector.shape, vector"
      ],
      "metadata": {
        "colab": {
          "base_uri": "https://localhost:8080/"
        },
        "id": "depQWQmt5Lsk",
        "outputId": "041f6161-6f25-4925-c270-bb0be1561aca"
      },
      "execution_count": 2,
      "outputs": [
        {
          "output_type": "execute_result",
          "data": {
            "text/plain": [
              "((10,),\n",
              " array([0.50863653, 0.55254229, 0.18093487, 0.19696164, 0.24708983,\n",
              "        0.2980327 , 0.46100944, 0.82054225, 0.68978868, 0.3882674 ]))"
            ]
          },
          "metadata": {},
          "execution_count": 2
        }
      ]
    },
    {
      "cell_type": "code",
      "source": [
        "matrix = np.array([[11, 14, 17], [20, 23, 26], [29, 32, 35]])\n",
        "matrix.shape, matrix"
      ],
      "metadata": {
        "colab": {
          "base_uri": "https://localhost:8080/"
        },
        "id": "-1uJwm2d6bgX",
        "outputId": "c15d9da9-8771-4142-861e-ff8fc49f2b88"
      },
      "execution_count": 3,
      "outputs": [
        {
          "output_type": "execute_result",
          "data": {
            "text/plain": [
              "((3, 3),\n",
              " array([[11, 14, 17],\n",
              "        [20, 23, 26],\n",
              "        [29, 32, 35]]))"
            ]
          },
          "metadata": {},
          "execution_count": 3
        }
      ]
    },
    {
      "cell_type": "markdown",
      "source": [
        "\n",
        "### Завдання 2: Операції над векторами та матрицями\n",
        "Виконайте кожну з зазначених операцій над зазначеними оʼєктами і виведіть результат на екран:\n",
        "1. Додайте до кожного значення вектора `vector` число 10 і округліть кожне значення до 2 знаків після коми без використання циклів.\n",
        "2. Помножте кожен елемент матриці з першого завдання на 2 без використання циклів.\n",
        "3. Створіть новий вектор, який містить квадрат кожного `vector` без циклів.\n"
      ],
      "metadata": {
        "id": "TSJ1P4OuOVe2"
      }
    },
    {
      "cell_type": "code",
      "source": [
        "vector_sum_round = np.round(vector + 10, 2)\n",
        "vector_sum_round"
      ],
      "metadata": {
        "id": "nAAojtyUVJXN",
        "colab": {
          "base_uri": "https://localhost:8080/"
        },
        "outputId": "eebc70ea-a5ab-46e9-fcc0-29ea384d4aee"
      },
      "execution_count": 4,
      "outputs": [
        {
          "output_type": "execute_result",
          "data": {
            "text/plain": [
              "array([10.51, 10.55, 10.18, 10.2 , 10.25, 10.3 , 10.46, 10.82, 10.69,\n",
              "       10.39])"
            ]
          },
          "metadata": {},
          "execution_count": 4
        }
      ]
    },
    {
      "cell_type": "code",
      "source": [
        "vector_multi = vector * 2\n",
        "vector_multi"
      ],
      "metadata": {
        "colab": {
          "base_uri": "https://localhost:8080/"
        },
        "id": "eY7MJhLd77ju",
        "outputId": "c382b37b-9ad0-41a8-b73b-e69be7639dcf"
      },
      "execution_count": 5,
      "outputs": [
        {
          "output_type": "execute_result",
          "data": {
            "text/plain": [
              "array([1.01727307, 1.10508459, 0.36186974, 0.39392329, 0.49417967,\n",
              "       0.5960654 , 0.92201888, 1.64108451, 1.37957736, 0.77653479])"
            ]
          },
          "metadata": {},
          "execution_count": 5
        }
      ]
    },
    {
      "cell_type": "code",
      "source": [
        "vector_pow = vector ** 2\n",
        "vector_pow"
      ],
      "metadata": {
        "colab": {
          "base_uri": "https://localhost:8080/"
        },
        "id": "0Ji_vbaF8E42",
        "outputId": "6efb1b60-0a54-4b82-a637-1d6806cf5fc6"
      },
      "execution_count": 6,
      "outputs": [
        {
          "output_type": "execute_result",
          "data": {
            "text/plain": [
              "array([0.25871112, 0.30530299, 0.03273743, 0.03879389, 0.06105339,\n",
              "       0.08882349, 0.2125297 , 0.67328959, 0.47580842, 0.15075157])"
            ]
          },
          "metadata": {},
          "execution_count": 6
        }
      ]
    },
    {
      "cell_type": "markdown",
      "source": [
        "\n",
        "### Завдання 3: Множення матриць\n",
        "1. Задані дві матриці `A` і `B`розмірностями 3x2 та 2х3. Виконайте їхнє множення, щоб отримати матрицю 2x2. Виведіть результуючу матрицю `result_matrix` на екран.\n",
        "\n",
        "2. Заданий вектор `C` розмірністю 2х1. Подумайте спочатку, яку розмірність Ви отрмаєте, коли домножите `result_matrix` на вектор `C` і який результат буде. А потім виконайте множення і виведіть результат на екран.\n",
        "\n",
        "3. Задана матриця `D` розмірністю 2х2. Подумайте спочатку, яку розмірність Ви отрмаєте, коли домножите `result_matrix` на матрицю `D` і який результат буде. А потім виконайте множення і виведіть результат на екран."
      ],
      "metadata": {
        "id": "u6RvWVfhPy-k"
      }
    },
    {
      "cell_type": "code",
      "source": [
        "A = np.array(\n",
        "    [[0.18, 0.53],\n",
        "     [0.75, 0.47],\n",
        "     [0.35, 0.21]])\n",
        "\n",
        "B = np.array(\n",
        "    [[0.17, 0.58, 0.75],\n",
        "     [0.38, 0.11, 0.15]])\n",
        "\n",
        "C = np.array([[0], [1]])\n",
        "\n",
        "D = np.array([[0,1], [1,0]])\n",
        "\n",
        "display(A, B, C, D)"
      ],
      "metadata": {
        "id": "RwXfPzlbSJ44",
        "colab": {
          "base_uri": "https://localhost:8080/",
          "height": 181
        },
        "outputId": "c56dbffa-80a9-4bba-8c21-868d3c4d46e0"
      },
      "execution_count": 7,
      "outputs": [
        {
          "output_type": "display_data",
          "data": {
            "text/plain": [
              "array([[0.18, 0.53],\n",
              "       [0.75, 0.47],\n",
              "       [0.35, 0.21]])"
            ]
          },
          "metadata": {}
        },
        {
          "output_type": "display_data",
          "data": {
            "text/plain": [
              "array([[0.17, 0.58, 0.75],\n",
              "       [0.38, 0.11, 0.15]])"
            ]
          },
          "metadata": {}
        },
        {
          "output_type": "display_data",
          "data": {
            "text/plain": [
              "array([[0],\n",
              "       [1]])"
            ]
          },
          "metadata": {}
        },
        {
          "output_type": "display_data",
          "data": {
            "text/plain": [
              "array([[0, 1],\n",
              "       [1, 0]])"
            ]
          },
          "metadata": {}
        }
      ]
    },
    {
      "cell_type": "code",
      "source": [
        "result_matrix = np.dot(A.T, B.T)\n",
        "result_matrix.shape, result_matrix"
      ],
      "metadata": {
        "id": "z7-boTbhVKkj",
        "colab": {
          "base_uri": "https://localhost:8080/"
        },
        "outputId": "b11693a9-fdba-4173-ca15-c6cb76bcf743"
      },
      "execution_count": 8,
      "outputs": [
        {
          "output_type": "execute_result",
          "data": {
            "text/plain": [
              "((2, 2),\n",
              " array([[0.7281, 0.2034],\n",
              "        [0.5202, 0.2846]]))"
            ]
          },
          "metadata": {},
          "execution_count": 8
        }
      ]
    },
    {
      "cell_type": "markdown",
      "source": [
        "При множенні матриці розмірністю (2, 2) на вектор розмірністю (2, 1) то в результаті отримаємо вектор розмірністю (2, 1). В заданому випадку цей вектор матиме такі ж значення, які знаходяться в 2 колонці result_matrix"
      ],
      "metadata": {
        "id": "LUu1XGxAEsuu"
      }
    },
    {
      "cell_type": "code",
      "source": [
        "matrix_vector = np.dot(result_matrix, C)\n",
        "matrix_vector.shape, matrix_vector"
      ],
      "metadata": {
        "colab": {
          "base_uri": "https://localhost:8080/"
        },
        "id": "slnm9j5O-usc",
        "outputId": "1b0f2e5e-e095-44c9-b73e-b92e5a5c2a14"
      },
      "execution_count": 9,
      "outputs": [
        {
          "output_type": "execute_result",
          "data": {
            "text/plain": [
              "((2, 1),\n",
              " array([[0.2034],\n",
              "        [0.2846]]))"
            ]
          },
          "metadata": {},
          "execution_count": 9
        }
      ]
    },
    {
      "cell_type": "markdown",
      "source": [
        "При множенні матриці розмірністю (2, 2) на матрицю розмірністю (2, 2) ми так само отримаємо матрицю розмірністю (2, 2). При цьому стовпці матриці result_matrix поміняються місцями (перший стовпець стане другим, а другий - першим)"
      ],
      "metadata": {
        "id": "pgZxNd0qIAcN"
      }
    },
    {
      "cell_type": "code",
      "source": [
        "matrix_matrix = np.dot(result_matrix, D)\n",
        "matrix_matrix.shape, matrix_matrix"
      ],
      "metadata": {
        "colab": {
          "base_uri": "https://localhost:8080/"
        },
        "id": "1jI-Lj3QA97J",
        "outputId": "9603410d-96f0-4fa2-b82a-d405f1538532"
      },
      "execution_count": 10,
      "outputs": [
        {
          "output_type": "execute_result",
          "data": {
            "text/plain": [
              "((2, 2),\n",
              " array([[0.2034, 0.7281],\n",
              "        [0.2846, 0.5202]]))"
            ]
          },
          "metadata": {},
          "execution_count": 10
        }
      ]
    },
    {
      "cell_type": "markdown",
      "source": [
        "\n",
        "### Завдання 4: Транспонування матриць\n",
        "1. Транспонуйте `result_matrix`.\n",
        "2. Зробіть транспонування вектора `vector` і виведіть форму нової структури. Чи бачите ви зміну?\n",
        "3. Використайте операцію `numpy.expand_dims` над вектором `vector` з аргументом axis=1. Запишіть отриманий результат в змінну `column_vector` і виведіть на екран. Порівняйте з `vector`.\n",
        "4. Зробіть транспонування `column_vector`, виведіть результат на екран разом з розмірностями отриманої структури.\n",
        "\n",
        "\n"
      ],
      "metadata": {
        "id": "wohp0_cxSGpl"
      }
    },
    {
      "cell_type": "code",
      "source": [
        "result_matrix_transp = result_matrix.T\n",
        "result_matrix_transp"
      ],
      "metadata": {
        "id": "4hFcq1baVLii",
        "colab": {
          "base_uri": "https://localhost:8080/"
        },
        "outputId": "935ee2f4-a890-49b4-816b-0795cbb16cc3"
      },
      "execution_count": 11,
      "outputs": [
        {
          "output_type": "execute_result",
          "data": {
            "text/plain": [
              "array([[0.7281, 0.5202],\n",
              "       [0.2034, 0.2846]])"
            ]
          },
          "metadata": {},
          "execution_count": 11
        }
      ]
    },
    {
      "cell_type": "code",
      "source": [
        "vector_transp = vector.T\n",
        "vector_transp.shape, vector_transp"
      ],
      "metadata": {
        "colab": {
          "base_uri": "https://localhost:8080/"
        },
        "id": "YyK1EauiIodK",
        "outputId": "3a05569d-2cf5-4918-ae1e-087b662c4735"
      },
      "execution_count": 12,
      "outputs": [
        {
          "output_type": "execute_result",
          "data": {
            "text/plain": [
              "((10,),\n",
              " array([0.50863653, 0.55254229, 0.18093487, 0.19696164, 0.24708983,\n",
              "        0.2980327 , 0.46100944, 0.82054225, 0.68978868, 0.3882674 ]))"
            ]
          },
          "metadata": {},
          "execution_count": 12
        }
      ]
    },
    {
      "cell_type": "markdown",
      "source": [
        "Після транспонування жодних змін не відбулось. Це пов'язано з тим, що в даному випадку вектор у нас одновимірний."
      ],
      "metadata": {
        "id": "XerAKnmXJhOX"
      }
    },
    {
      "cell_type": "code",
      "source": [
        "column_vector = np.expand_dims(vector, axis=1)\n",
        "column_vector"
      ],
      "metadata": {
        "colab": {
          "base_uri": "https://localhost:8080/"
        },
        "id": "GZn15a4PJyOd",
        "outputId": "481333eb-1caa-4b30-8724-aebca0792b39"
      },
      "execution_count": 13,
      "outputs": [
        {
          "output_type": "execute_result",
          "data": {
            "text/plain": [
              "array([[0.50863653],\n",
              "       [0.55254229],\n",
              "       [0.18093487],\n",
              "       [0.19696164],\n",
              "       [0.24708983],\n",
              "       [0.2980327 ],\n",
              "       [0.46100944],\n",
              "       [0.82054225],\n",
              "       [0.68978868],\n",
              "       [0.3882674 ]])"
            ]
          },
          "metadata": {},
          "execution_count": 13
        }
      ]
    },
    {
      "cell_type": "markdown",
      "source": [
        "Після застосування функції expand_dims з аргументом axis=1 ми додали розмірність нашому вектору, при цьому змінивши його орієнтацію з горизонатльної на вертикальну. Тепер він має розмірність (10, 1).\n",
        "\n",
        "\n",
        "\n"
      ],
      "metadata": {
        "id": "GUL5lMbhK_Tn"
      }
    },
    {
      "cell_type": "code",
      "source": [
        "column_vector.T"
      ],
      "metadata": {
        "colab": {
          "base_uri": "https://localhost:8080/"
        },
        "id": "X1ZOHr38LerR",
        "outputId": "aa0a6cd5-8726-4a4b-aebf-3b6e9950368c"
      },
      "execution_count": 14,
      "outputs": [
        {
          "output_type": "execute_result",
          "data": {
            "text/plain": [
              "array([[0.50863653, 0.55254229, 0.18093487, 0.19696164, 0.24708983,\n",
              "        0.2980327 , 0.46100944, 0.82054225, 0.68978868, 0.3882674 ]])"
            ]
          },
          "metadata": {},
          "execution_count": 14
        }
      ]
    },
    {
      "cell_type": "markdown",
      "source": [
        "Після транспонування наш вектор має розмірність (1, 10)"
      ],
      "metadata": {
        "id": "mgefZIQILxiF"
      }
    },
    {
      "cell_type": "code",
      "source": [],
      "metadata": {
        "id": "jzrOGuaVL5AP"
      },
      "execution_count": 14,
      "outputs": []
    }
  ]
}